{
 "cells": [
  {
   "cell_type": "code",
   "execution_count": 1,
   "id": "268de5dc-de8d-4ead-9846-ceadba46940f",
   "metadata": {},
   "outputs": [],
   "source": [
    "import pandas as pd # for data manipulation\n",
    "import numpy as np  # for numerical operations\n",
    "import seaborn as sns  # Importing Seaborn library for data visualization\n",
    "import matplotlib.pyplot as plt  # Importing Matplotlib library for plotting\n",
    "import re # Import the regex module for pattern matching\n",
    "import warnings\n",
    "warnings.filterwarnings('ignore')# filter out warnings"
   ]
  },
  {
   "cell_type": "markdown",
   "id": "210e75c1-c014-4d0c-9b14-e7aa506aedcd",
   "metadata": {},
   "source": [
    "# Import data"
   ]
  },
  {
   "cell_type": "code",
   "execution_count": 2,
   "id": "515fba2a-44dc-494a-b0b1-ad849a8b3d71",
   "metadata": {},
   "outputs": [
    {
     "data": {
      "text/html": [
       "<div>\n",
       "<style scoped>\n",
       "    .dataframe tbody tr th:only-of-type {\n",
       "        vertical-align: middle;\n",
       "    }\n",
       "\n",
       "    .dataframe tbody tr th {\n",
       "        vertical-align: top;\n",
       "    }\n",
       "\n",
       "    .dataframe thead th {\n",
       "        text-align: right;\n",
       "    }\n",
       "</style>\n",
       "<table border=\"1\" class=\"dataframe\">\n",
       "  <thead>\n",
       "    <tr style=\"text-align: right;\">\n",
       "      <th></th>\n",
       "      <th>title</th>\n",
       "      <th>year</th>\n",
       "      <th>certificate</th>\n",
       "      <th>duration</th>\n",
       "      <th>genre</th>\n",
       "      <th>rating</th>\n",
       "      <th>description</th>\n",
       "      <th>stars</th>\n",
       "      <th>votes</th>\n",
       "    </tr>\n",
       "  </thead>\n",
       "  <tbody>\n",
       "    <tr>\n",
       "      <th>0</th>\n",
       "      <td>Cobra Kai</td>\n",
       "      <td>(2018– )</td>\n",
       "      <td>TV-14</td>\n",
       "      <td>30 min</td>\n",
       "      <td>Action, Comedy, Drama</td>\n",
       "      <td>8.5</td>\n",
       "      <td>Decades after their 1984 All Valley Karate Tou...</td>\n",
       "      <td>['Ralph Macchio, ', 'William Zabka, ', 'Courtn...</td>\n",
       "      <td>177,031</td>\n",
       "    </tr>\n",
       "    <tr>\n",
       "      <th>1</th>\n",
       "      <td>The Crown</td>\n",
       "      <td>(2016– )</td>\n",
       "      <td>TV-MA</td>\n",
       "      <td>58 min</td>\n",
       "      <td>Biography, Drama, History</td>\n",
       "      <td>8.7</td>\n",
       "      <td>Follows the political rivalries and romance of...</td>\n",
       "      <td>['Claire Foy, ', 'Olivia Colman, ', 'Imelda St...</td>\n",
       "      <td>199,885</td>\n",
       "    </tr>\n",
       "    <tr>\n",
       "      <th>2</th>\n",
       "      <td>Better Call Saul</td>\n",
       "      <td>(2015–2022)</td>\n",
       "      <td>TV-MA</td>\n",
       "      <td>46 min</td>\n",
       "      <td>Crime, Drama</td>\n",
       "      <td>8.9</td>\n",
       "      <td>The trials and tribulations of criminal lawyer...</td>\n",
       "      <td>['Bob Odenkirk, ', 'Rhea Seehorn, ', 'Jonathan...</td>\n",
       "      <td>501,384</td>\n",
       "    </tr>\n",
       "    <tr>\n",
       "      <th>3</th>\n",
       "      <td>Devil in Ohio</td>\n",
       "      <td>(2022)</td>\n",
       "      <td>TV-MA</td>\n",
       "      <td>356 min</td>\n",
       "      <td>Drama, Horror, Mystery</td>\n",
       "      <td>5.9</td>\n",
       "      <td>When a psychiatrist shelters a mysterious cult...</td>\n",
       "      <td>['Emily Deschanel, ', 'Sam Jaeger, ', 'Gerardo...</td>\n",
       "      <td>9,773</td>\n",
       "    </tr>\n",
       "    <tr>\n",
       "      <th>4</th>\n",
       "      <td>Cyberpunk: Edgerunners</td>\n",
       "      <td>(2022– )</td>\n",
       "      <td>TV-MA</td>\n",
       "      <td>24 min</td>\n",
       "      <td>Animation, Action, Adventure</td>\n",
       "      <td>8.6</td>\n",
       "      <td>A Street Kid trying to survive in a technology...</td>\n",
       "      <td>['Zach Aguilar, ', 'Kenichiro Ohashi, ', 'Emi ...</td>\n",
       "      <td>15,413</td>\n",
       "    </tr>\n",
       "  </tbody>\n",
       "</table>\n",
       "</div>"
      ],
      "text/plain": [
       "                    title         year certificate duration  \\\n",
       "0               Cobra Kai     (2018– )       TV-14   30 min   \n",
       "1               The Crown     (2016– )       TV-MA   58 min   \n",
       "2        Better Call Saul  (2015–2022)       TV-MA   46 min   \n",
       "3           Devil in Ohio       (2022)       TV-MA  356 min   \n",
       "4  Cyberpunk: Edgerunners     (2022– )       TV-MA   24 min   \n",
       "\n",
       "                          genre  rating  \\\n",
       "0         Action, Comedy, Drama     8.5   \n",
       "1     Biography, Drama, History     8.7   \n",
       "2                  Crime, Drama     8.9   \n",
       "3        Drama, Horror, Mystery     5.9   \n",
       "4  Animation, Action, Adventure     8.6   \n",
       "\n",
       "                                         description  \\\n",
       "0  Decades after their 1984 All Valley Karate Tou...   \n",
       "1  Follows the political rivalries and romance of...   \n",
       "2  The trials and tribulations of criminal lawyer...   \n",
       "3  When a psychiatrist shelters a mysterious cult...   \n",
       "4  A Street Kid trying to survive in a technology...   \n",
       "\n",
       "                                               stars    votes  \n",
       "0  ['Ralph Macchio, ', 'William Zabka, ', 'Courtn...  177,031  \n",
       "1  ['Claire Foy, ', 'Olivia Colman, ', 'Imelda St...  199,885  \n",
       "2  ['Bob Odenkirk, ', 'Rhea Seehorn, ', 'Jonathan...  501,384  \n",
       "3  ['Emily Deschanel, ', 'Sam Jaeger, ', 'Gerardo...    9,773  \n",
       "4  ['Zach Aguilar, ', 'Kenichiro Ohashi, ', 'Emi ...   15,413  "
      ]
     },
     "execution_count": 2,
     "metadata": {},
     "output_type": "execute_result"
    }
   ],
   "source": [
    "# Load the dataset from a CSV file\n",
    "movies_data = pd.read_csv('n_movies.csv')\n",
    "movies_data.head()"
   ]
  },
  {
   "cell_type": "code",
   "execution_count": 3,
   "id": "4ef98d44-bc81-4f35-a770-fe924a97651a",
   "metadata": {},
   "outputs": [
    {
     "data": {
      "text/plain": [
       "(9957, 9)"
      ]
     },
     "execution_count": 3,
     "metadata": {},
     "output_type": "execute_result"
    }
   ],
   "source": [
    "# Check rows\n",
    "movies_data.shape"
   ]
  },
  {
   "cell_type": "markdown",
   "id": "87846c1c-c469-4c63-acd4-b5c6c47f1293",
   "metadata": {},
   "source": [
    "# Checking Datatype"
   ]
  },
  {
   "cell_type": "code",
   "execution_count": 7,
   "id": "de83e241-9df7-49c8-8163-622d034c70f2",
   "metadata": {},
   "outputs": [
    {
     "name": "stdout",
     "output_type": "stream",
     "text": [
      "<class 'pandas.core.frame.DataFrame'>\n",
      "RangeIndex: 9957 entries, 0 to 9956\n",
      "Data columns (total 9 columns):\n",
      " #   Column       Non-Null Count  Dtype  \n",
      "---  ------       --------------  -----  \n",
      " 0   title        9957 non-null   object \n",
      " 1   year         9430 non-null   object \n",
      " 2   certificate  6504 non-null   object \n",
      " 3   duration     7921 non-null   object \n",
      " 4   genre        9884 non-null   object \n",
      " 5   rating       8784 non-null   float64\n",
      " 6   description  9957 non-null   object \n",
      " 7   stars        9957 non-null   object \n",
      " 8   votes        8784 non-null   object \n",
      "dtypes: float64(1), object(8)\n",
      "memory usage: 700.2+ KB\n"
     ]
    }
   ],
   "source": [
    "movies_data.info()"
   ]
  },
  {
   "cell_type": "code",
   "execution_count": 8,
   "id": "0be2ddb9-47e2-4de4-9786-6f17ec2a1981",
   "metadata": {},
   "outputs": [
    {
     "data": {
      "text/plain": [
       "title           object\n",
       "year            object\n",
       "certificate     object\n",
       "duration        object\n",
       "genre           object\n",
       "rating         float64\n",
       "description     object\n",
       "stars           object\n",
       "votes           object\n",
       "dtype: object"
      ]
     },
     "execution_count": 8,
     "metadata": {},
     "output_type": "execute_result"
    }
   ],
   "source": [
    "movies_data.dtypes"
   ]
  },
  {
   "cell_type": "markdown",
   "id": "7a110bcb-9603-4687-8dcc-019719829d8c",
   "metadata": {},
   "source": [
    "# Rename the columns of the DataFrame for better readability and consistency."
   ]
  },
  {
   "cell_type": "code",
   "execution_count": 9,
   "id": "3f33ceec-f292-4a89-8df4-14ac45e9bca5",
   "metadata": {},
   "outputs": [
    {
     "data": {
      "text/plain": [
       "Index(['title', 'year', 'certificate', 'duration', 'genre', 'rating',\n",
       "       'description', 'stars', 'votes'],\n",
       "      dtype='object')"
      ]
     },
     "execution_count": 9,
     "metadata": {},
     "output_type": "execute_result"
    }
   ],
   "source": [
    "# Check column name\n",
    "movies_data.columns"
   ]
  },
  {
   "cell_type": "code",
   "execution_count": 10,
   "id": "89c35712-d7b6-4727-a934-e1f8446c05d3",
   "metadata": {},
   "outputs": [],
   "source": [
    "# Define two lists to categorize columns in the dataset:\n",
    "# 'required_column' contains the essential columns needed for the analysis or processing,\n",
    "# while 'unrequired_column' lists the non-essential columns that can be excluded or ignored if necessary.\n",
    "required_column = ['title', 'genre', 'rating','year','description','votes', 'certificate', 'duration']\n",
    "unrequired_column = ['stars']"
   ]
  },
  {
   "cell_type": "code",
   "execution_count": 11,
   "id": "fc56a5eb-be53-4ed5-88c6-c773a22df613",
   "metadata": {},
   "outputs": [],
   "source": [
    "# Create a new DataFrame containing only the essential columns specified in the 'required_column' list.\n",
    "# This helps in focusing on relevant data and reducing unnecessary clutter.\n",
    "movies_data = movies_data[required_column]"
   ]
  },
  {
   "cell_type": "code",
   "execution_count": 12,
   "id": "4e18ff7f-8863-44e6-8e83-e28f6bfddf93",
   "metadata": {},
   "outputs": [
    {
     "data": {
      "text/html": [
       "<div>\n",
       "<style scoped>\n",
       "    .dataframe tbody tr th:only-of-type {\n",
       "        vertical-align: middle;\n",
       "    }\n",
       "\n",
       "    .dataframe tbody tr th {\n",
       "        vertical-align: top;\n",
       "    }\n",
       "\n",
       "    .dataframe thead th {\n",
       "        text-align: right;\n",
       "    }\n",
       "</style>\n",
       "<table border=\"1\" class=\"dataframe\">\n",
       "  <thead>\n",
       "    <tr style=\"text-align: right;\">\n",
       "      <th></th>\n",
       "      <th>Title</th>\n",
       "      <th>Genre</th>\n",
       "      <th>Rating</th>\n",
       "      <th>Year</th>\n",
       "      <th>Description</th>\n",
       "      <th>Votes</th>\n",
       "      <th>Certificate</th>\n",
       "      <th>Duration</th>\n",
       "    </tr>\n",
       "  </thead>\n",
       "  <tbody>\n",
       "    <tr>\n",
       "      <th>0</th>\n",
       "      <td>Cobra Kai</td>\n",
       "      <td>Action, Comedy, Drama</td>\n",
       "      <td>8.5</td>\n",
       "      <td>(2018– )</td>\n",
       "      <td>Decades after their 1984 All Valley Karate Tou...</td>\n",
       "      <td>177,031</td>\n",
       "      <td>TV-14</td>\n",
       "      <td>30 min</td>\n",
       "    </tr>\n",
       "    <tr>\n",
       "      <th>1</th>\n",
       "      <td>The Crown</td>\n",
       "      <td>Biography, Drama, History</td>\n",
       "      <td>8.7</td>\n",
       "      <td>(2016– )</td>\n",
       "      <td>Follows the political rivalries and romance of...</td>\n",
       "      <td>199,885</td>\n",
       "      <td>TV-MA</td>\n",
       "      <td>58 min</td>\n",
       "    </tr>\n",
       "    <tr>\n",
       "      <th>2</th>\n",
       "      <td>Better Call Saul</td>\n",
       "      <td>Crime, Drama</td>\n",
       "      <td>8.9</td>\n",
       "      <td>(2015–2022)</td>\n",
       "      <td>The trials and tribulations of criminal lawyer...</td>\n",
       "      <td>501,384</td>\n",
       "      <td>TV-MA</td>\n",
       "      <td>46 min</td>\n",
       "    </tr>\n",
       "    <tr>\n",
       "      <th>3</th>\n",
       "      <td>Devil in Ohio</td>\n",
       "      <td>Drama, Horror, Mystery</td>\n",
       "      <td>5.9</td>\n",
       "      <td>(2022)</td>\n",
       "      <td>When a psychiatrist shelters a mysterious cult...</td>\n",
       "      <td>9,773</td>\n",
       "      <td>TV-MA</td>\n",
       "      <td>356 min</td>\n",
       "    </tr>\n",
       "    <tr>\n",
       "      <th>4</th>\n",
       "      <td>Cyberpunk: Edgerunners</td>\n",
       "      <td>Animation, Action, Adventure</td>\n",
       "      <td>8.6</td>\n",
       "      <td>(2022– )</td>\n",
       "      <td>A Street Kid trying to survive in a technology...</td>\n",
       "      <td>15,413</td>\n",
       "      <td>TV-MA</td>\n",
       "      <td>24 min</td>\n",
       "    </tr>\n",
       "  </tbody>\n",
       "</table>\n",
       "</div>"
      ],
      "text/plain": [
       "                    Title                         Genre  Rating         Year  \\\n",
       "0               Cobra Kai         Action, Comedy, Drama     8.5     (2018– )   \n",
       "1               The Crown     Biography, Drama, History     8.7     (2016– )   \n",
       "2        Better Call Saul                  Crime, Drama     8.9  (2015–2022)   \n",
       "3           Devil in Ohio        Drama, Horror, Mystery     5.9       (2022)   \n",
       "4  Cyberpunk: Edgerunners  Animation, Action, Adventure     8.6     (2022– )   \n",
       "\n",
       "                                         Description    Votes Certificate  \\\n",
       "0  Decades after their 1984 All Valley Karate Tou...  177,031       TV-14   \n",
       "1  Follows the political rivalries and romance of...  199,885       TV-MA   \n",
       "2  The trials and tribulations of criminal lawyer...  501,384       TV-MA   \n",
       "3  When a psychiatrist shelters a mysterious cult...    9,773       TV-MA   \n",
       "4  A Street Kid trying to survive in a technology...   15,413       TV-MA   \n",
       "\n",
       "  Duration  \n",
       "0   30 min  \n",
       "1   58 min  \n",
       "2   46 min  \n",
       "3  356 min  \n",
       "4   24 min  "
      ]
     },
     "execution_count": 12,
     "metadata": {},
     "output_type": "execute_result"
    }
   ],
   "source": [
    "# Rename the columns of the DataFrame to improve readability and follow a consistent naming convention.\n",
    "movies_data=movies_data.rename(columns={\"title\":\"Title\",\"year\" :\"Year\" , \"certificate\" :\"Certificate\", \n",
    "                                        \"duration\" :\"Duration\",\"genre\":\"Genre\",\"rating\":\"Rating\",\n",
    "                                       \"description\" :\"Description\", \"votes\" :\"Votes\"})\n",
    "movies_data.head()"
   ]
  },
  {
   "cell_type": "markdown",
   "id": "608324b7-af19-4840-966b-bfc6bd4c1024",
   "metadata": {},
   "source": [
    "# Clean year column "
   ]
  },
  {
   "cell_type": "code",
   "execution_count": 13,
   "id": "a89fa2a1-a2be-4157-963a-06449cb7b746",
   "metadata": {},
   "outputs": [],
   "source": [
    "# Convert 'year' to numeric, extracting only the first 4 digits (year) and converting to integer\n",
    "movies_data['Year'] = movies_data['Year'].str.extract(r'(\\d{4})').astype(float).astype('Int64')"
   ]
  },
  {
   "cell_type": "code",
   "execution_count": 14,
   "id": "2f2648e1-d4a3-459e-a767-429ff918b231",
   "metadata": {},
   "outputs": [
    {
     "data": {
      "text/plain": [
       "Title           object\n",
       "Genre           object\n",
       "Rating         float64\n",
       "Year             Int64\n",
       "Description     object\n",
       "Votes           object\n",
       "Certificate     object\n",
       "Duration        object\n",
       "dtype: object"
      ]
     },
     "execution_count": 14,
     "metadata": {},
     "output_type": "execute_result"
    }
   ],
   "source": [
    "movies_data.dtypes"
   ]
  },
  {
   "cell_type": "code",
   "execution_count": 15,
   "id": "3d0a1310-b9a0-4514-825b-5a01a5ee7f47",
   "metadata": {},
   "outputs": [
    {
     "data": {
      "text/html": [
       "<div>\n",
       "<style scoped>\n",
       "    .dataframe tbody tr th:only-of-type {\n",
       "        vertical-align: middle;\n",
       "    }\n",
       "\n",
       "    .dataframe tbody tr th {\n",
       "        vertical-align: top;\n",
       "    }\n",
       "\n",
       "    .dataframe thead th {\n",
       "        text-align: right;\n",
       "    }\n",
       "</style>\n",
       "<table border=\"1\" class=\"dataframe\">\n",
       "  <thead>\n",
       "    <tr style=\"text-align: right;\">\n",
       "      <th></th>\n",
       "      <th>Title</th>\n",
       "      <th>Genre</th>\n",
       "      <th>Rating</th>\n",
       "      <th>Year</th>\n",
       "      <th>Description</th>\n",
       "      <th>Votes</th>\n",
       "      <th>Certificate</th>\n",
       "      <th>Duration</th>\n",
       "    </tr>\n",
       "  </thead>\n",
       "  <tbody>\n",
       "    <tr>\n",
       "      <th>0</th>\n",
       "      <td>Cobra Kai</td>\n",
       "      <td>Action, Comedy, Drama</td>\n",
       "      <td>8.5</td>\n",
       "      <td>2018</td>\n",
       "      <td>Decades after their 1984 All Valley Karate Tou...</td>\n",
       "      <td>177,031</td>\n",
       "      <td>TV-14</td>\n",
       "      <td>30 min</td>\n",
       "    </tr>\n",
       "    <tr>\n",
       "      <th>1</th>\n",
       "      <td>The Crown</td>\n",
       "      <td>Biography, Drama, History</td>\n",
       "      <td>8.7</td>\n",
       "      <td>2016</td>\n",
       "      <td>Follows the political rivalries and romance of...</td>\n",
       "      <td>199,885</td>\n",
       "      <td>TV-MA</td>\n",
       "      <td>58 min</td>\n",
       "    </tr>\n",
       "    <tr>\n",
       "      <th>2</th>\n",
       "      <td>Better Call Saul</td>\n",
       "      <td>Crime, Drama</td>\n",
       "      <td>8.9</td>\n",
       "      <td>2015</td>\n",
       "      <td>The trials and tribulations of criminal lawyer...</td>\n",
       "      <td>501,384</td>\n",
       "      <td>TV-MA</td>\n",
       "      <td>46 min</td>\n",
       "    </tr>\n",
       "    <tr>\n",
       "      <th>3</th>\n",
       "      <td>Devil in Ohio</td>\n",
       "      <td>Drama, Horror, Mystery</td>\n",
       "      <td>5.9</td>\n",
       "      <td>2022</td>\n",
       "      <td>When a psychiatrist shelters a mysterious cult...</td>\n",
       "      <td>9,773</td>\n",
       "      <td>TV-MA</td>\n",
       "      <td>356 min</td>\n",
       "    </tr>\n",
       "    <tr>\n",
       "      <th>4</th>\n",
       "      <td>Cyberpunk: Edgerunners</td>\n",
       "      <td>Animation, Action, Adventure</td>\n",
       "      <td>8.6</td>\n",
       "      <td>2022</td>\n",
       "      <td>A Street Kid trying to survive in a technology...</td>\n",
       "      <td>15,413</td>\n",
       "      <td>TV-MA</td>\n",
       "      <td>24 min</td>\n",
       "    </tr>\n",
       "  </tbody>\n",
       "</table>\n",
       "</div>"
      ],
      "text/plain": [
       "                    Title                         Genre  Rating  Year  \\\n",
       "0               Cobra Kai         Action, Comedy, Drama     8.5  2018   \n",
       "1               The Crown     Biography, Drama, History     8.7  2016   \n",
       "2        Better Call Saul                  Crime, Drama     8.9  2015   \n",
       "3           Devil in Ohio        Drama, Horror, Mystery     5.9  2022   \n",
       "4  Cyberpunk: Edgerunners  Animation, Action, Adventure     8.6  2022   \n",
       "\n",
       "                                         Description    Votes Certificate  \\\n",
       "0  Decades after their 1984 All Valley Karate Tou...  177,031       TV-14   \n",
       "1  Follows the political rivalries and romance of...  199,885       TV-MA   \n",
       "2  The trials and tribulations of criminal lawyer...  501,384       TV-MA   \n",
       "3  When a psychiatrist shelters a mysterious cult...    9,773       TV-MA   \n",
       "4  A Street Kid trying to survive in a technology...   15,413       TV-MA   \n",
       "\n",
       "  Duration  \n",
       "0   30 min  \n",
       "1   58 min  \n",
       "2   46 min  \n",
       "3  356 min  \n",
       "4   24 min  "
      ]
     },
     "execution_count": 15,
     "metadata": {},
     "output_type": "execute_result"
    }
   ],
   "source": [
    "movies_data.head()"
   ]
  },
  {
   "cell_type": "markdown",
   "id": "c7f3a812-4354-49c0-a6f7-4229d7024da0",
   "metadata": {},
   "source": [
    "# Find and Remove Duplicates"
   ]
  },
  {
   "cell_type": "code",
   "execution_count": 16,
   "id": "9f4ac781-8347-4c0d-af9d-ff69d20ef820",
   "metadata": {},
   "outputs": [
    {
     "data": {
      "text/plain": [
       "12"
      ]
     },
     "execution_count": 16,
     "metadata": {},
     "output_type": "execute_result"
    }
   ],
   "source": [
    "# Check duplicates values\n",
    "movies_data.duplicated().sum()"
   ]
  },
  {
   "cell_type": "code",
   "execution_count": 17,
   "id": "5b7b3ac9-eebc-49e6-b6af-f81e9fb64ca1",
   "metadata": {},
   "outputs": [],
   "source": [
    "# Drop Duplicates\n",
    "movies_data.drop_duplicates(inplace = True)"
   ]
  },
  {
   "cell_type": "code",
   "execution_count": 18,
   "id": "98128c57-48e9-4802-9411-7803ae03c805",
   "metadata": {},
   "outputs": [
    {
     "data": {
      "text/plain": [
       "0"
      ]
     },
     "execution_count": 18,
     "metadata": {},
     "output_type": "execute_result"
    }
   ],
   "source": [
    "movies_data.duplicated().sum()"
   ]
  },
  {
   "cell_type": "markdown",
   "id": "5c710742-a16d-4e50-97e0-c482211dffad",
   "metadata": {},
   "source": [
    "# Handle missing values"
   ]
  },
  {
   "cell_type": "code",
   "execution_count": 19,
   "id": "598370ae-3b6e-4dd7-8684-a96b1aa2b57b",
   "metadata": {},
   "outputs": [
    {
     "data": {
      "text/plain": [
       "Title             0\n",
       "Genre            73\n",
       "Rating         1167\n",
       "Year            631\n",
       "Description       0\n",
       "Votes          1167\n",
       "Certificate    3445\n",
       "Duration       2024\n",
       "dtype: int64"
      ]
     },
     "execution_count": 19,
     "metadata": {},
     "output_type": "execute_result"
    }
   ],
   "source": [
    "# Check null values\n",
    "movies_data.isnull().sum()"
   ]
  },
  {
   "cell_type": "markdown",
   "id": "79576e3f-1ab3-4a52-acdb-443fbe11760c",
   "metadata": {},
   "source": [
    "## Fill null values"
   ]
  },
  {
   "cell_type": "code",
   "execution_count": 20,
   "id": "e247c56d-faa7-4e5d-9d6c-282bb2a136c8",
   "metadata": {},
   "outputs": [],
   "source": [
    "# Fill missing ratings with the mean\n",
    "movies_data['Rating'] = movies_data['Rating'].fillna(movies_data['Rating'].mean())"
   ]
  },
  {
   "cell_type": "code",
   "execution_count": 23,
   "id": "d5aaee86-fe51-47aa-8f6f-d4c734c190fd",
   "metadata": {},
   "outputs": [],
   "source": [
    "# Fill missing genres with 'Unknown'\n",
    "movies_data['Genre'] = movies_data['Genre'].fillna('Unknown')"
   ]
  },
  {
   "cell_type": "code",
   "execution_count": 24,
   "id": "ee6ac6ec-e9e7-4c45-9345-8d3331d10f37",
   "metadata": {
    "scrolled": true
   },
   "outputs": [],
   "source": [
    "# unique_genres\n"
   ]
  },
  {
   "cell_type": "code",
   "execution_count": 25,
   "id": "9c58b8cf-8cbd-4ee1-b650-a2ca394b2200",
   "metadata": {},
   "outputs": [],
   "source": [
    "# Fill missing values using the next row's value\n",
    "movies_data['Year'] = movies_data['Year'].fillna(method='bfill')"
   ]
  },
  {
   "cell_type": "code",
   "execution_count": 26,
   "id": "9e1fafd7-3520-4cb5-bc0a-0cace12ce26a",
   "metadata": {},
   "outputs": [],
   "source": [
    "# Clean 'votes' column by removing commas and converting to numeric\n",
    "movies_data['Votes'] = movies_data['Votes'].fillna(0).astype(str).str.replace(',', '').astype(int)\n"
   ]
  },
  {
   "cell_type": "code",
   "execution_count": 27,
   "id": "dc73136f-8f30-4913-b329-d0e62869d43e",
   "metadata": {},
   "outputs": [],
   "source": [
    "# Convert the 'Duration' column to string before applying .str.extract()\n",
    "movies_data['Duration'] = (movies_data['Duration']\n",
    "        .astype(str)  # Convert to string type to ensure .str accessor works\n",
    "        .str.extract(r'(\\d+)')  # Extract the numerical values from the string\n",
    "        .astype(float)  # Convert the extracted values to float\n",
    "        .fillna(movies_data['Duration'].astype(str).str.extract(r'(\\d+)').astype(float).median())  # Fill NaN with the median value\n",
    "        .astype(int)  # Convert to integer after filling NaN values\n",
    ")\n"
   ]
  },
  {
   "cell_type": "code",
   "execution_count": 28,
   "id": "09d369ce-2958-4376-bbe2-23f4220f3127",
   "metadata": {},
   "outputs": [],
   "source": [
    "# Replace missing values in the 'Certificate' column with 'Unrated'\n",
    "movies_data['Certificate'] = movies_data['Certificate'].fillna('Unrated')"
   ]
  },
  {
   "cell_type": "code",
   "execution_count": 29,
   "id": "864eab84-0e3c-41e2-8ba6-33f53d926ebd",
   "metadata": {},
   "outputs": [
    {
     "data": {
      "text/plain": [
       "Title          0\n",
       "Genre          0\n",
       "Rating         0\n",
       "Year           0\n",
       "Description    0\n",
       "Votes          0\n",
       "Certificate    0\n",
       "Duration       0\n",
       "dtype: int64"
      ]
     },
     "execution_count": 29,
     "metadata": {},
     "output_type": "execute_result"
    }
   ],
   "source": [
    "movies_data.isnull().sum()"
   ]
  },
  {
   "cell_type": "code",
   "execution_count": 30,
   "id": "e993d2b9-e8b8-4a52-932d-7ef03249436c",
   "metadata": {},
   "outputs": [
    {
     "data": {
      "text/plain": [
       "Title           object\n",
       "Genre           object\n",
       "Rating         float64\n",
       "Year             Int64\n",
       "Description     object\n",
       "Votes            int32\n",
       "Certificate     object\n",
       "Duration         int32\n",
       "dtype: object"
      ]
     },
     "execution_count": 30,
     "metadata": {},
     "output_type": "execute_result"
    }
   ],
   "source": [
    "movies_data.dtypes\n"
   ]
  },
  {
   "cell_type": "code",
   "execution_count": 31,
   "id": "d920f66f-fa3a-4881-a37e-a2617eb9a416",
   "metadata": {},
   "outputs": [
    {
     "data": {
      "text/plain": [
       "(9945, 8)"
      ]
     },
     "execution_count": 31,
     "metadata": {},
     "output_type": "execute_result"
    }
   ],
   "source": [
    "movies_data.shape"
   ]
  },
  {
   "cell_type": "code",
   "execution_count": 32,
   "id": "df0ce492-4407-42ec-89de-956363e45d23",
   "metadata": {},
   "outputs": [
    {
     "data": {
      "text/plain": [
       "0"
      ]
     },
     "execution_count": 32,
     "metadata": {},
     "output_type": "execute_result"
    }
   ],
   "source": [
    "movies_data.duplicated().sum()"
   ]
  },
  {
   "cell_type": "code",
   "execution_count": 33,
   "id": "27442fec-7d6a-41b7-a936-2cbb948e4623",
   "metadata": {},
   "outputs": [
    {
     "data": {
      "text/html": [
       "<div>\n",
       "<style scoped>\n",
       "    .dataframe tbody tr th:only-of-type {\n",
       "        vertical-align: middle;\n",
       "    }\n",
       "\n",
       "    .dataframe tbody tr th {\n",
       "        vertical-align: top;\n",
       "    }\n",
       "\n",
       "    .dataframe thead th {\n",
       "        text-align: right;\n",
       "    }\n",
       "</style>\n",
       "<table border=\"1\" class=\"dataframe\">\n",
       "  <thead>\n",
       "    <tr style=\"text-align: right;\">\n",
       "      <th></th>\n",
       "      <th>Title</th>\n",
       "      <th>Genre</th>\n",
       "      <th>Rating</th>\n",
       "      <th>Year</th>\n",
       "      <th>Description</th>\n",
       "      <th>Votes</th>\n",
       "      <th>Certificate</th>\n",
       "      <th>Duration</th>\n",
       "    </tr>\n",
       "  </thead>\n",
       "  <tbody>\n",
       "    <tr>\n",
       "      <th>0</th>\n",
       "      <td>Cobra Kai</td>\n",
       "      <td>Action, Comedy, Drama</td>\n",
       "      <td>8.5</td>\n",
       "      <td>2018</td>\n",
       "      <td>Decades after their 1984 All Valley Karate Tou...</td>\n",
       "      <td>177031</td>\n",
       "      <td>TV-14</td>\n",
       "      <td>30</td>\n",
       "    </tr>\n",
       "    <tr>\n",
       "      <th>1</th>\n",
       "      <td>The Crown</td>\n",
       "      <td>Biography, Drama, History</td>\n",
       "      <td>8.7</td>\n",
       "      <td>2016</td>\n",
       "      <td>Follows the political rivalries and romance of...</td>\n",
       "      <td>199885</td>\n",
       "      <td>TV-MA</td>\n",
       "      <td>58</td>\n",
       "    </tr>\n",
       "    <tr>\n",
       "      <th>2</th>\n",
       "      <td>Better Call Saul</td>\n",
       "      <td>Crime, Drama</td>\n",
       "      <td>8.9</td>\n",
       "      <td>2015</td>\n",
       "      <td>The trials and tribulations of criminal lawyer...</td>\n",
       "      <td>501384</td>\n",
       "      <td>TV-MA</td>\n",
       "      <td>46</td>\n",
       "    </tr>\n",
       "    <tr>\n",
       "      <th>3</th>\n",
       "      <td>Devil in Ohio</td>\n",
       "      <td>Drama, Horror, Mystery</td>\n",
       "      <td>5.9</td>\n",
       "      <td>2022</td>\n",
       "      <td>When a psychiatrist shelters a mysterious cult...</td>\n",
       "      <td>9773</td>\n",
       "      <td>TV-MA</td>\n",
       "      <td>356</td>\n",
       "    </tr>\n",
       "    <tr>\n",
       "      <th>4</th>\n",
       "      <td>Cyberpunk: Edgerunners</td>\n",
       "      <td>Animation, Action, Adventure</td>\n",
       "      <td>8.6</td>\n",
       "      <td>2022</td>\n",
       "      <td>A Street Kid trying to survive in a technology...</td>\n",
       "      <td>15413</td>\n",
       "      <td>TV-MA</td>\n",
       "      <td>24</td>\n",
       "    </tr>\n",
       "  </tbody>\n",
       "</table>\n",
       "</div>"
      ],
      "text/plain": [
       "                    Title                         Genre  Rating  Year  \\\n",
       "0               Cobra Kai         Action, Comedy, Drama     8.5  2018   \n",
       "1               The Crown     Biography, Drama, History     8.7  2016   \n",
       "2        Better Call Saul                  Crime, Drama     8.9  2015   \n",
       "3           Devil in Ohio        Drama, Horror, Mystery     5.9  2022   \n",
       "4  Cyberpunk: Edgerunners  Animation, Action, Adventure     8.6  2022   \n",
       "\n",
       "                                         Description   Votes Certificate  \\\n",
       "0  Decades after their 1984 All Valley Karate Tou...  177031       TV-14   \n",
       "1  Follows the political rivalries and romance of...  199885       TV-MA   \n",
       "2  The trials and tribulations of criminal lawyer...  501384       TV-MA   \n",
       "3  When a psychiatrist shelters a mysterious cult...    9773       TV-MA   \n",
       "4  A Street Kid trying to survive in a technology...   15413       TV-MA   \n",
       "\n",
       "   Duration  \n",
       "0        30  \n",
       "1        58  \n",
       "2        46  \n",
       "3       356  \n",
       "4        24  "
      ]
     },
     "execution_count": 33,
     "metadata": {},
     "output_type": "execute_result"
    }
   ],
   "source": [
    "movies_data.head()"
   ]
  },
  {
   "cell_type": "markdown",
   "id": "a766f534-29df-4e05-8745-22b438d75550",
   "metadata": {},
   "source": [
    "# Check and Remove Special Character\n"
   ]
  },
  {
   "cell_type": "code",
   "execution_count": 34,
   "id": "2d33415d-3104-4427-b251-b08aea515328",
   "metadata": {},
   "outputs": [
    {
     "data": {
      "text/html": [
       "<div>\n",
       "<style scoped>\n",
       "    .dataframe tbody tr th:only-of-type {\n",
       "        vertical-align: middle;\n",
       "    }\n",
       "\n",
       "    .dataframe tbody tr th {\n",
       "        vertical-align: top;\n",
       "    }\n",
       "\n",
       "    .dataframe thead th {\n",
       "        text-align: right;\n",
       "    }\n",
       "</style>\n",
       "<table border=\"1\" class=\"dataframe\">\n",
       "  <thead>\n",
       "    <tr style=\"text-align: right;\">\n",
       "      <th></th>\n",
       "      <th>Title</th>\n",
       "      <th>Genre</th>\n",
       "      <th>Rating</th>\n",
       "      <th>Year</th>\n",
       "      <th>Description</th>\n",
       "      <th>Votes</th>\n",
       "      <th>Certificate</th>\n",
       "      <th>Duration</th>\n",
       "    </tr>\n",
       "  </thead>\n",
       "  <tbody>\n",
       "    <tr>\n",
       "      <th>0</th>\n",
       "      <td>Cobra Kai</td>\n",
       "      <td>Action Comedy Drama</td>\n",
       "      <td>8.5</td>\n",
       "      <td>2018</td>\n",
       "      <td>Decades after their 1984 All Valley Karate Tou...</td>\n",
       "      <td>177031</td>\n",
       "      <td>TV14</td>\n",
       "      <td>30</td>\n",
       "    </tr>\n",
       "    <tr>\n",
       "      <th>1</th>\n",
       "      <td>The Crown</td>\n",
       "      <td>Biography Drama History</td>\n",
       "      <td>8.7</td>\n",
       "      <td>2016</td>\n",
       "      <td>Follows the political rivalries and romance of...</td>\n",
       "      <td>199885</td>\n",
       "      <td>TVMA</td>\n",
       "      <td>58</td>\n",
       "    </tr>\n",
       "    <tr>\n",
       "      <th>2</th>\n",
       "      <td>Better Call Saul</td>\n",
       "      <td>Crime Drama</td>\n",
       "      <td>8.9</td>\n",
       "      <td>2015</td>\n",
       "      <td>The trials and tribulations of criminal lawyer...</td>\n",
       "      <td>501384</td>\n",
       "      <td>TVMA</td>\n",
       "      <td>46</td>\n",
       "    </tr>\n",
       "    <tr>\n",
       "      <th>3</th>\n",
       "      <td>Devil in Ohio</td>\n",
       "      <td>Drama Horror Mystery</td>\n",
       "      <td>5.9</td>\n",
       "      <td>2022</td>\n",
       "      <td>When a psychiatrist shelters a mysterious cult...</td>\n",
       "      <td>9773</td>\n",
       "      <td>TVMA</td>\n",
       "      <td>356</td>\n",
       "    </tr>\n",
       "    <tr>\n",
       "      <th>4</th>\n",
       "      <td>Cyberpunk Edgerunners</td>\n",
       "      <td>Animation Action Adventure</td>\n",
       "      <td>8.6</td>\n",
       "      <td>2022</td>\n",
       "      <td>A Street Kid trying to survive in a technology...</td>\n",
       "      <td>15413</td>\n",
       "      <td>TVMA</td>\n",
       "      <td>24</td>\n",
       "    </tr>\n",
       "  </tbody>\n",
       "</table>\n",
       "</div>"
      ],
      "text/plain": [
       "                   Title                       Genre  Rating  Year  \\\n",
       "0              Cobra Kai         Action Comedy Drama     8.5  2018   \n",
       "1              The Crown     Biography Drama History     8.7  2016   \n",
       "2       Better Call Saul                 Crime Drama     8.9  2015   \n",
       "3          Devil in Ohio        Drama Horror Mystery     5.9  2022   \n",
       "4  Cyberpunk Edgerunners  Animation Action Adventure     8.6  2022   \n",
       "\n",
       "                                         Description   Votes Certificate  \\\n",
       "0  Decades after their 1984 All Valley Karate Tou...  177031        TV14   \n",
       "1  Follows the political rivalries and romance of...  199885        TVMA   \n",
       "2  The trials and tribulations of criminal lawyer...  501384        TVMA   \n",
       "3  When a psychiatrist shelters a mysterious cult...    9773        TVMA   \n",
       "4  A Street Kid trying to survive in a technology...   15413        TVMA   \n",
       "\n",
       "   Duration  \n",
       "0        30  \n",
       "1        58  \n",
       "2        46  \n",
       "3       356  \n",
       "4        24  "
      ]
     },
     "execution_count": 34,
     "metadata": {},
     "output_type": "execute_result"
    }
   ],
   "source": [
    "## Define a regex pattern to identify special characters\n",
    "special_char_pattern = r'[^a-zA-Z0-9\\s]'\n",
    "\n",
    "# Remove special characters from all string columns\n",
    "movies_data = movies_data.applymap(lambda x: re.sub(special_char_pattern, '', str(x)) if isinstance(x, str) else x\n",
    ")\n",
    "\n",
    "movies_data.head()"
   ]
  },
  {
   "cell_type": "code",
   "execution_count": 35,
   "id": "d7f67651-1ff5-4ec1-a926-59639e566f9c",
   "metadata": {},
   "outputs": [
    {
     "data": {
      "text/html": [
       "<div>\n",
       "<style scoped>\n",
       "    .dataframe tbody tr th:only-of-type {\n",
       "        vertical-align: middle;\n",
       "    }\n",
       "\n",
       "    .dataframe tbody tr th {\n",
       "        vertical-align: top;\n",
       "    }\n",
       "\n",
       "    .dataframe thead th {\n",
       "        text-align: right;\n",
       "    }\n",
       "</style>\n",
       "<table border=\"1\" class=\"dataframe\">\n",
       "  <thead>\n",
       "    <tr style=\"text-align: right;\">\n",
       "      <th></th>\n",
       "      <th>Title</th>\n",
       "      <th>Genre</th>\n",
       "      <th>Rating</th>\n",
       "      <th>Year</th>\n",
       "      <th>Description</th>\n",
       "      <th>Votes</th>\n",
       "      <th>Certificate</th>\n",
       "      <th>Duration</th>\n",
       "    </tr>\n",
       "  </thead>\n",
       "  <tbody>\n",
       "    <tr>\n",
       "      <th>0</th>\n",
       "      <td>Cobra Kai</td>\n",
       "      <td>Action Comedy Drama</td>\n",
       "      <td>8.5</td>\n",
       "      <td>2018</td>\n",
       "      <td>Decades after their 1984 All Valley Karate Tou...</td>\n",
       "      <td>177031</td>\n",
       "      <td>TV14</td>\n",
       "      <td>30</td>\n",
       "    </tr>\n",
       "    <tr>\n",
       "      <th>1</th>\n",
       "      <td>The Crown</td>\n",
       "      <td>Biography Drama History</td>\n",
       "      <td>8.7</td>\n",
       "      <td>2016</td>\n",
       "      <td>Follows the political rivalries and romance of...</td>\n",
       "      <td>199885</td>\n",
       "      <td>TVMA</td>\n",
       "      <td>58</td>\n",
       "    </tr>\n",
       "    <tr>\n",
       "      <th>2</th>\n",
       "      <td>Better Call Saul</td>\n",
       "      <td>Crime Drama</td>\n",
       "      <td>8.9</td>\n",
       "      <td>2015</td>\n",
       "      <td>The trials and tribulations of criminal lawyer...</td>\n",
       "      <td>501384</td>\n",
       "      <td>TVMA</td>\n",
       "      <td>46</td>\n",
       "    </tr>\n",
       "    <tr>\n",
       "      <th>3</th>\n",
       "      <td>Devil in Ohio</td>\n",
       "      <td>Drama Horror Mystery</td>\n",
       "      <td>5.9</td>\n",
       "      <td>2022</td>\n",
       "      <td>When a psychiatrist shelters a mysterious cult...</td>\n",
       "      <td>9773</td>\n",
       "      <td>TVMA</td>\n",
       "      <td>356</td>\n",
       "    </tr>\n",
       "    <tr>\n",
       "      <th>4</th>\n",
       "      <td>Cyberpunk Edgerunners</td>\n",
       "      <td>Animation Action Adventure</td>\n",
       "      <td>8.6</td>\n",
       "      <td>2022</td>\n",
       "      <td>A Street Kid trying to survive in a technology...</td>\n",
       "      <td>15413</td>\n",
       "      <td>TVMA</td>\n",
       "      <td>24</td>\n",
       "    </tr>\n",
       "  </tbody>\n",
       "</table>\n",
       "</div>"
      ],
      "text/plain": [
       "                   Title                       Genre  Rating  Year  \\\n",
       "0              Cobra Kai         Action Comedy Drama     8.5  2018   \n",
       "1              The Crown     Biography Drama History     8.7  2016   \n",
       "2       Better Call Saul                 Crime Drama     8.9  2015   \n",
       "3          Devil in Ohio        Drama Horror Mystery     5.9  2022   \n",
       "4  Cyberpunk Edgerunners  Animation Action Adventure     8.6  2022   \n",
       "\n",
       "                                         Description   Votes Certificate  \\\n",
       "0  Decades after their 1984 All Valley Karate Tou...  177031        TV14   \n",
       "1  Follows the political rivalries and romance of...  199885        TVMA   \n",
       "2  The trials and tribulations of criminal lawyer...  501384        TVMA   \n",
       "3  When a psychiatrist shelters a mysterious cult...    9773        TVMA   \n",
       "4  A Street Kid trying to survive in a technology...   15413        TVMA   \n",
       "\n",
       "   Duration  \n",
       "0        30  \n",
       "1        58  \n",
       "2        46  \n",
       "3       356  \n",
       "4        24  "
      ]
     },
     "execution_count": 35,
     "metadata": {},
     "output_type": "execute_result"
    }
   ],
   "source": [
    "columns_to_clean = ['Title']\n",
    "# Apply the cleaning operation to the specified column(s)\n",
    "movies_data[columns_to_clean] = movies_data[columns_to_clean].applymap(lambda x: \n",
    "    re.sub(special_char_pattern, '', str(x)) if isinstance(x, str) else x\n",
    ")\n",
    "movies_data.head()"
   ]
  },
  {
   "cell_type": "code",
   "execution_count": 36,
   "id": "23e22cfc-9846-4fd0-8acc-16d7644e1cca",
   "metadata": {},
   "outputs": [],
   "source": [
    "movies_data.to_csv('cleaned_n_moviess.csv', index=False)"
   ]
  },
  {
   "cell_type": "code",
   "execution_count": null,
   "id": "96ccdd2c-928c-4377-9dbf-a13f28795995",
   "metadata": {},
   "outputs": [],
   "source": []
  }
 ],
 "metadata": {
  "kernelspec": {
   "display_name": "Python 3 (ipykernel)",
   "language": "python",
   "name": "python3"
  },
  "language_info": {
   "codemirror_mode": {
    "name": "ipython",
    "version": 3
   },
   "file_extension": ".py",
   "mimetype": "text/x-python",
   "name": "python",
   "nbconvert_exporter": "python",
   "pygments_lexer": "ipython3",
   "version": "3.12.7"
  }
 },
 "nbformat": 4,
 "nbformat_minor": 5
}
